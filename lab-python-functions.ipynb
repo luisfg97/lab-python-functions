{
 "cells": [
  {
   "cell_type": "markdown",
   "id": "25d7736c-ba17-4aff-b6bb-66eba20fbf4e",
   "metadata": {},
   "source": [
    "# Lab | Functions"
   ]
  },
  {
   "cell_type": "markdown",
   "id": "0c581062-8967-4d93-b06e-62833222f930",
   "metadata": {
    "tags": []
   },
   "source": [
    "## Exercise: Managing Customer Orders with Functions\n",
    "\n",
    "In the previous exercise, you improved the code for managing customer orders by using loops and flow control. Now, let's take it a step further and refactor the code by introducing functions.\n",
    "\n",
    "Follow the steps below to complete the exercise:\n",
    "\n",
    "1. Define a function named `initialize_inventory` that takes `products` as a parameter. Inside the function, implement the code for initializing the inventory dictionary using a loop and user input.\n",
    "\n",
    "2. Define a function named `get_customer_orders` that takes no parameters. Inside the function, implement the code for prompting the user to enter the product names using a loop. The function should return the `customer_orders` set.\n",
    "\n",
    "3. Define a function named `update_inventory` that takes `customer_orders` and `inventory` as parameters. Inside the function, implement the code for updating the inventory dictionary based on the customer orders.\n",
    "\n",
    "4. Define a function named `calculate_order_statistics` that takes `customer_orders` and `products` as parameters. Inside the function, implement the code for calculating the order statistics (total products ordered, and percentage of unique products ordered). The function should return these values.\n",
    "\n",
    "5. Define a function named `print_order_statistics` that takes `order_statistics` as a parameter. Inside the function, implement the code for printing the order statistics.\n",
    "\n",
    "6. Define a function named `print_updated_inventory` that takes `inventory` as a parameter. Inside the function, implement the code for printing the updated inventory.\n",
    "\n",
    "7. Call the functions in the appropriate sequence to execute the program and manage customer orders.\n",
    "\n",
    "Hints for functions:\n",
    "\n",
    "- Consider the input parameters required for each function and their return values.\n",
    "- Utilize function parameters and return values to transfer data between functions.\n",
    "- Test your functions individually to ensure they work correctly.\n",
    "\n",
    "\n"
   ]
  },
  {
   "cell_type": "code",
   "execution_count": 84,
   "id": "5392f531",
   "metadata": {},
   "outputs": [],
   "source": [
    "products = [\"t-shirt\", \"mug\", \"hat\", \"book\", \"keychain\"]\n",
    "inventory = {}"
   ]
  },
  {
   "cell_type": "code",
   "execution_count": 54,
   "id": "656ffbc8",
   "metadata": {},
   "outputs": [
    {
     "name": "stdout",
     "output_type": "stream",
     "text": [
      "t-shirt\n"
     ]
    },
    {
     "name": "stdout",
     "output_type": "stream",
     "text": [
      "mug\n",
      "hat\n",
      "book\n",
      "keychain\n"
     ]
    }
   ],
   "source": [
    "def initialize_inventory(products):\n",
    "    for item in products:\n",
    "        print(item)\n",
    "        cantidad_item = int(input(\"Cantidad: \"))\n",
    "        inventory[item] = cantidad_item\n",
    "\n",
    "initialize_inventory(products)"
   ]
  },
  {
   "cell_type": "code",
   "execution_count": 55,
   "id": "7537bdf5",
   "metadata": {},
   "outputs": [
    {
     "name": "stdout",
     "output_type": "stream",
     "text": [
      "Gracias por su compra.\n",
      "{'mug', 'hat'}\n"
     ]
    }
   ],
   "source": [
    "customers_orders = set()\n",
    "\n",
    "def get_customers_orders():\n",
    "    while True:\n",
    "        order = input(\"Eliga un producto: \")\n",
    "        customers_orders.add(order)\n",
    "\n",
    "        seguir = input(\"Quiere seguir comprando? (si/no): \").lower()\n",
    "\n",
    "        if seguir != \"si\":\n",
    "            print(\"Gracias por su compra.\")\n",
    "            break\n",
    "\n",
    "get_customers_orders()\n",
    "\n",
    "print(customers_orders)"
   ]
  },
  {
   "cell_type": "code",
   "execution_count": 57,
   "id": "19407f2d",
   "metadata": {},
   "outputs": [
    {
     "name": "stdout",
     "output_type": "stream",
     "text": [
      "{'t-shirt': 100, 'mug': 98, 'hat': 98, 'book': 100, 'keychain': 100}\n"
     ]
    }
   ],
   "source": [
    "def update_inventory(customers_orders, inventory):\n",
    "    for order in customers_orders:\n",
    "        inventory[order] -= 1\n",
    "\n",
    "    print(inventory)\n",
    "\n",
    "update_inventory(customers_orders, inventory)"
   ]
  },
  {
   "cell_type": "code",
   "execution_count": 73,
   "id": "9210b731",
   "metadata": {},
   "outputs": [
    {
     "name": "stdout",
     "output_type": "stream",
     "text": [
      "Total products ordered:  {2}\n",
      "Percentage of unique products orderedpercentage_ordered  {40.0}\n"
     ]
    }
   ],
   "source": [
    "total_order = len(customers_orders)\n",
    "total_products = len(products)\n",
    "\n",
    "def calculate_order_statistics (customers_orders, products):\n",
    "    percentage_ordered = (total_order / total_products) * 100\n",
    "    print(\"Total products ordered: \", {total_order})\n",
    "    print(\"Percentage of unique products orderedpercentage_ordered \", {percentage_ordered})\n",
    "\n",
    "calculate_order_statistics (customers_orders, products)"
   ]
  },
  {
   "cell_type": "code",
   "execution_count": 87,
   "id": "ee2ddf9d",
   "metadata": {},
   "outputs": [
    {
     "name": "stdout",
     "output_type": "stream",
     "text": [
      "Total products ordered:  {2}\n",
      "Percentage of unique products orderedpercentage_ordered  {40.0}\n"
     ]
    }
   ],
   "source": [
    "order_statistics = calculate_order_statistics(customers_orders, products)"
   ]
  },
  {
   "cell_type": "code",
   "execution_count": null,
   "id": "0c75b937",
   "metadata": {},
   "outputs": [],
   "source": [
    "def print_order_statistics(order_statistics):\n",
    "    print(calculate_order_statistics(customers_orders, products))\n",
    "\n",
    "    return print_order_statistics(order_statistics)\n",
    "print_order_statistics(order_statistics)"
   ]
  },
  {
   "cell_type": "code",
   "execution_count": 83,
   "id": "5b314b71",
   "metadata": {},
   "outputs": [
    {
     "name": "stdout",
     "output_type": "stream",
     "text": [
      "{'t-shirt': 100, 'mug': 98, 'hat': 98, 'book': 100, 'keychain': 100}\n"
     ]
    }
   ],
   "source": [
    "def print_updated_inventory(inventory):\n",
    "    print(inventory)\n",
    "print_updated_inventory(inventory)"
   ]
  },
  {
   "cell_type": "code",
   "execution_count": 89,
   "id": "0e749f77",
   "metadata": {},
   "outputs": [
    {
     "name": "stdout",
     "output_type": "stream",
     "text": [
      "t-shirt\n",
      "mug\n",
      "hat\n",
      "book\n",
      "keychain\n",
      "Gracias por su compra.\n",
      "{'t-shirt': 100, 'mug': 99, 'hat': 99, 'book': 99, 'keychain': 100}\n",
      "Total products ordered:  {2}\n",
      "Percentage of unique products orderedpercentage_ordered  {40.0}\n",
      "{'t-shirt': 100, 'mug': 99, 'hat': 99, 'book': 99, 'keychain': 100}\n"
     ]
    }
   ],
   "source": [
    "#Call the functions in the appropriate sequence to execute the program and manage customer orders.\n",
    "\n",
    "initialize_inventory(products)\n",
    "\n",
    "customers_orders = set()\n",
    "\n",
    "get_customers_orders()\n",
    "\n",
    "update_inventory(customers_orders, inventory)\n",
    "\n",
    "calculate_order_statistics (customers_orders, products)\n",
    "\n",
    "print_updated_inventory(inventory)\n"
   ]
  },
  {
   "cell_type": "code",
   "execution_count": null,
   "id": "04ef1aee",
   "metadata": {},
   "outputs": [],
   "source": []
  }
 ],
 "metadata": {
  "kernelspec": {
   "display_name": "Python 3",
   "language": "python",
   "name": "python3"
  },
  "language_info": {
   "codemirror_mode": {
    "name": "ipython",
    "version": 3
   },
   "file_extension": ".py",
   "mimetype": "text/x-python",
   "name": "python",
   "nbconvert_exporter": "python",
   "pygments_lexer": "ipython3",
   "version": "3.11.9"
  }
 },
 "nbformat": 4,
 "nbformat_minor": 5
}
